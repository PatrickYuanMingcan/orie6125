{
 "cells": [
  {
   "cell_type": "code",
   "execution_count": 1,
   "metadata": {
    "collapsed": false
   },
   "outputs": [
    {
     "name": "stdout",
     "output_type": "stream",
     "text": [
      "Welcome to\n",
      "      ____              __\n",
      "     / __/__  ___ _____/ /__\n",
      "    _\\ \\/ _ \\/ _ `/ __/  '_/\n",
      "   /__ / .__/\\_,_/_/ /_/\\_\\   version 2.2.1\n",
      "      /_/\n",
      "\n",
      "Using Python version 2.7.13 (default, Dec 20 2016 23:05:08)\n",
      "SparkSession available as 'spark'.\n"
     ]
    }
   ],
   "source": [
    "import os \n",
    "import sys\n",
    "\n",
    "spark_home = os.environ.get('SPARK_HOME', None)\n",
    "sys.path.insert(0, os.path.join(spark_home, 'python/lib/py4j-0.10.4-src.zip'))\n",
    "sys.path.insert(0, os.path.join(spark_home, 'python'))\n",
    "execfile(os.path.join(os.environ[\"SPARK_HOME\"], 'python/pyspark/shell.py'))"
   ]
  },
  {
   "cell_type": "code",
   "execution_count": 5,
   "metadata": {
    "collapsed": true
   },
   "outputs": [],
   "source": [
    "from pyspark.ml.clustering import KMeans"
   ]
  },
  {
   "cell_type": "code",
   "execution_count": 454,
   "metadata": {
    "collapsed": true
   },
   "outputs": [],
   "source": [
    "votes = sc.textFile('/Users/saultoscano/Desktop/desktop_march_2018/finance_course/orie6125/clustering/114_congress.csv')"
   ]
  },
  {
   "cell_type": "code",
   "execution_count": 455,
   "metadata": {
    "collapsed": false
   },
   "outputs": [],
   "source": [
    "def remove_header(itr_index, itr):\n",
    "    return iter(list(itr)[1:]) if itr_index == 0 else itr\n",
    "votes = votes.mapPartitionsWithIndex(remove_header).cache()\n"
   ]
  },
  {
   "cell_type": "code",
   "execution_count": 456,
   "metadata": {
    "collapsed": true
   },
   "outputs": [],
   "source": [
    "votes = votes.map(lambda line: [str(i + 1) + \":\" + x + \" \" for i, x in enumerate(line.split(',')[3:])])"
   ]
  },
  {
   "cell_type": "code",
   "execution_count": 457,
   "metadata": {
    "collapsed": false
   },
   "outputs": [],
   "source": [
    "votes=votes.zipWithIndex().map(lambda line: [str(line[1]) + ' '] + line[0])"
   ]
  },
  {
   "cell_type": "code",
   "execution_count": 458,
   "metadata": {
    "collapsed": true
   },
   "outputs": [],
   "source": [
    "votes = votes.map(lambda line: (1,line + ['\\n']))"
   ]
  },
  {
   "cell_type": "code",
   "execution_count": 459,
   "metadata": {
    "collapsed": true
   },
   "outputs": [],
   "source": [
    "votes = votes.map(lambda line: (line[0],''.join(line[1])))"
   ]
  },
  {
   "cell_type": "code",
   "execution_count": 460,
   "metadata": {
    "collapsed": true
   },
   "outputs": [],
   "source": [
    "votes = votes.reduceByKey(lambda v1, v2: v1+v2)"
   ]
  },
  {
   "cell_type": "code",
   "execution_count": 461,
   "metadata": {
    "collapsed": false
   },
   "outputs": [],
   "source": [
    "new_data = votes.collect()[0][1]"
   ]
  },
  {
   "cell_type": "code",
   "execution_count": 462,
   "metadata": {
    "collapsed": true
   },
   "outputs": [],
   "source": [
    "encoding = 'utf-8'"
   ]
  },
  {
   "cell_type": "code",
   "execution_count": 463,
   "metadata": {
    "collapsed": false
   },
   "outputs": [],
   "source": [
    "import io\n",
    "\n",
    "with io.open('new_votes.txt', 'w', encoding=encoding) as file:\n",
    "    file.write(new_data)"
   ]
  },
  {
   "cell_type": "code",
   "execution_count": 2,
   "metadata": {
    "collapsed": false
   },
   "outputs": [],
   "source": [
    "dataset = spark.read.format(\"libsvm\").load(\"new_votes.txt\")"
   ]
  },
  {
   "cell_type": "code",
   "execution_count": 3,
   "metadata": {
    "collapsed": false
   },
   "outputs": [
    {
     "data": {
      "text/plain": [
       "100"
      ]
     },
     "execution_count": 3,
     "metadata": {},
     "output_type": "execute_result"
    }
   ],
   "source": [
    "dataset.count()"
   ]
  },
  {
   "cell_type": "code",
   "execution_count": 4,
   "metadata": {
    "collapsed": false
   },
   "outputs": [
    {
     "name": "stdout",
     "output_type": "stream",
     "text": [
      "+-----+--------------------+\n",
      "|label|            features|\n",
      "+-----+--------------------+\n",
      "|  0.0|(15,[1,2,3,4,7,8,...|\n",
      "|  1.0|(15,[1,2,3,4,7,9,...|\n",
      "|  2.0|(15,[0,3,5,7,10,1...|\n",
      "|  3.0|(15,[1,2,3,4,6,7,...|\n",
      "|  4.0|(15,[3,5,7,11,13]...|\n",
      "|  5.0|(15,[0,3,5,7,10,1...|\n",
      "|  6.0|(15,[1,2,3,4,6,7,...|\n",
      "|  7.0|(15,[0,3,5,7,10,1...|\n",
      "|  8.0|(15,[1,2,3,4,6,7,...|\n",
      "|  9.0|(15,[0,3,5,7,10,1...|\n",
      "| 10.0|(15,[0,3,5,7,10,1...|\n",
      "| 11.0|(15,[1,3,4,6,7,8,...|\n",
      "| 12.0|(15,[0,3,5,7,10,1...|\n",
      "| 13.0|(15,[0,1,2,3,4,6,...|\n",
      "| 14.0|(15,[0,3,5,7,10,1...|\n",
      "| 15.0|(15,[3,5,7,11,13,...|\n",
      "| 16.0|(15,[3,5,6,7,10,1...|\n",
      "| 17.0|(15,[1,2,3,4,6,7,...|\n",
      "| 18.0|(15,[1,2,3,4,6,7,...|\n",
      "| 19.0|(15,[1,2,3,4,6,7,...|\n",
      "+-----+--------------------+\n",
      "only showing top 20 rows\n",
      "\n"
     ]
    }
   ],
   "source": [
    "dataset.show()"
   ]
  },
  {
   "cell_type": "code",
   "execution_count": 9,
   "metadata": {
    "collapsed": true
   },
   "outputs": [],
   "source": [
    "# Trains a k-means model.\n",
    "kmeans = KMeans().setK(2).setSeed(1)\n",
    "model = kmeans.fit(dataset)"
   ]
  },
  {
   "cell_type": "code",
   "execution_count": 10,
   "metadata": {
    "collapsed": false
   },
   "outputs": [],
   "source": [
    "# Make predictions\n",
    "predictions = model.transform(dataset)\n"
   ]
  },
  {
   "cell_type": "code",
   "execution_count": 11,
   "metadata": {
    "collapsed": false
   },
   "outputs": [
    {
     "name": "stdout",
     "output_type": "stream",
     "text": [
      "Cluster Centers: \n",
      "[ 0.01754386  0.99122807  0.93859649  0.90350877  0.95614035  0.02631579\n",
      "  0.93859649  0.97368421  0.92105263  0.93859649  0.03508772  0.0877193\n",
      "  0.89473684  0.0877193   0.01754386]\n",
      "[ 0.73255814  0.02325581  0.          1.          0.          0.93023256\n",
      "  0.02325581  1.          0.          0.02325581  0.90697674  1.          0.\n",
      "  0.95348837  0.8372093 ]\n"
     ]
    }
   ],
   "source": [
    "# Shows the result.\n",
    "centers = model.clusterCenters()\n",
    "print(\"Cluster Centers: \")\n",
    "for center in centers:\n",
    "    print(center)"
   ]
  },
  {
   "cell_type": "markdown",
   "metadata": {},
   "source": [
    "## PCA"
   ]
  },
  {
   "cell_type": "code",
   "execution_count": 14,
   "metadata": {
    "collapsed": true
   },
   "outputs": [],
   "source": [
    "from pyspark.ml.feature import PCA"
   ]
  },
  {
   "cell_type": "code",
   "execution_count": 22,
   "metadata": {
    "collapsed": true
   },
   "outputs": [],
   "source": [
    "from pyspark.ml.feature import StandardScaler"
   ]
  },
  {
   "cell_type": "code",
   "execution_count": 25,
   "metadata": {
    "collapsed": false
   },
   "outputs": [],
   "source": [
    "standardizer = StandardScaler(withMean=True, withStd=True,\n",
    "                              inputCol='features',\n",
    "                              outputCol='features_2')\n",
    "model = standardizer.fit(dataset)\n",
    "dataset = model.transform(dataset)"
   ]
  },
  {
   "cell_type": "code",
   "execution_count": 26,
   "metadata": {
    "collapsed": false
   },
   "outputs": [
    {
     "name": "stdout",
     "output_type": "stream",
     "text": [
      "+-----+--------------------+--------------------+\n",
      "|label|            features|          features_2|\n",
      "+-----+--------------------+--------------------+\n",
      "|  0.0|(15,[1,2,3,4,7,8,...|[-0.7025238949735...|\n",
      "|  1.0|(15,[1,2,3,4,7,9,...|[-0.7025238949735...|\n",
      "|  2.0|(15,[0,3,5,7,10,1...|[1.45908808956051...|\n",
      "|  3.0|(15,[1,2,3,4,6,7,...|[-0.7025238949735...|\n",
      "|  4.0|(15,[3,5,7,11,13]...|[-0.7025238949735...|\n",
      "|  5.0|(15,[0,3,5,7,10,1...|[1.45908808956051...|\n",
      "|  6.0|(15,[1,2,3,4,6,7,...|[-0.7025238949735...|\n",
      "|  7.0|(15,[0,3,5,7,10,1...|[1.45908808956051...|\n",
      "|  8.0|(15,[1,2,3,4,6,7,...|[-0.7025238949735...|\n",
      "|  9.0|(15,[0,3,5,7,10,1...|[0.37828209729346...|\n",
      "| 10.0|(15,[0,3,5,7,10,1...|[1.45908808956051...|\n",
      "| 11.0|(15,[1,3,4,6,7,8,...|[-0.7025238949735...|\n",
      "| 12.0|(15,[0,3,5,7,10,1...|[1.45908808956051...|\n",
      "| 13.0|(15,[0,1,2,3,4,6,...|[0.37828209729346...|\n",
      "| 14.0|(15,[0,3,5,7,10,1...|[1.45908808956051...|\n",
      "| 15.0|(15,[3,5,7,11,13,...|[-0.7025238949735...|\n",
      "| 16.0|(15,[3,5,6,7,10,1...|[-0.7025238949735...|\n",
      "| 17.0|(15,[1,2,3,4,6,7,...|[-0.7025238949735...|\n",
      "| 18.0|(15,[1,2,3,4,6,7,...|[-0.7025238949735...|\n",
      "| 19.0|(15,[1,2,3,4,6,7,...|[-0.7025238949735...|\n",
      "+-----+--------------------+--------------------+\n",
      "only showing top 20 rows\n",
      "\n"
     ]
    }
   ],
   "source": [
    "dataset.show()"
   ]
  },
  {
   "cell_type": "code",
   "execution_count": 27,
   "metadata": {
    "collapsed": false
   },
   "outputs": [],
   "source": [
    "pca = PCA(k=2, inputCol=\"features_2\", outputCol=\"pcaFeatures\")"
   ]
  },
  {
   "cell_type": "code",
   "execution_count": 28,
   "metadata": {
    "collapsed": false
   },
   "outputs": [],
   "source": [
    "model = pca.fit(dataset)"
   ]
  },
  {
   "cell_type": "code",
   "execution_count": 29,
   "metadata": {
    "collapsed": false
   },
   "outputs": [],
   "source": [
    "result = model.transform(dataset).select(\"pcaFeatures\")"
   ]
  },
  {
   "cell_type": "code",
   "execution_count": 30,
   "metadata": {
    "collapsed": false
   },
   "outputs": [
    {
     "name": "stdout",
     "output_type": "stream",
     "text": [
      "+------------------------------------------+\n",
      "|pcaFeatures                               |\n",
      "+------------------------------------------+\n",
      "|[2.0620843910825246,0.4874975951750233]   |\n",
      "|[0.3672441244736251,0.511327592986997]    |\n",
      "|[-4.131326975073243,-0.04857501952386401] |\n",
      "|[3.1807068473277704,0.4255942123090494]   |\n",
      "|[-2.498142941541827,0.30710510909115185]  |\n",
      "|[-4.131326975073243,-0.04857501952386401] |\n",
      "|[3.1807068473277704,0.4255942123090494]   |\n",
      "|[-4.131326975073243,-0.04857501952386401] |\n",
      "|[3.1807068473277704,0.4255942123090494]   |\n",
      "|[-3.8688661145727745,0.028129793175296375]|\n",
      "|[-4.131326975073243,-0.04857501952386401] |\n",
      "|[2.6141600988460887,0.4258664352498201]   |\n",
      "|[-4.131326975073243,-0.04857501952386401] |\n",
      "|[2.918245986827302,0.3488893996098889]    |\n",
      "|[-4.131326975073243,-0.04857501952386401] |\n",
      "|[-3.0494201590340153,0.18736998424651413] |\n",
      "|[-3.047360622534305,0.09722064194330006]  |\n",
      "|[3.1807068473277704,0.4255942123090494]   |\n",
      "|[3.1807068473277704,0.4255942123090494]   |\n",
      "|[3.1807068473277704,0.4255942123090494]   |\n",
      "+------------------------------------------+\n",
      "only showing top 20 rows\n",
      "\n"
     ]
    }
   ],
   "source": [
    "result.show(truncate=False)"
   ]
  },
  {
   "cell_type": "code",
   "execution_count": null,
   "metadata": {
    "collapsed": true
   },
   "outputs": [],
   "source": []
  }
 ],
 "metadata": {
  "kernelspec": {
   "display_name": "Python 2",
   "language": "python",
   "name": "python2"
  },
  "language_info": {
   "codemirror_mode": {
    "name": "ipython",
    "version": 2
   },
   "file_extension": ".py",
   "mimetype": "text/x-python",
   "name": "python",
   "nbconvert_exporter": "python",
   "pygments_lexer": "ipython2",
   "version": "2.7.13"
  }
 },
 "nbformat": 4,
 "nbformat_minor": 2
}
